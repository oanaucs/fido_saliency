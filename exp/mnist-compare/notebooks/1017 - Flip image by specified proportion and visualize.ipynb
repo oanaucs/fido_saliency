{
 "cells": [
  {
   "cell_type": "markdown",
   "metadata": {},
   "source": [
    "# Visualization by flipping\n",
    "\n",
    "Flipping the top pixels and see how much accuracy it lasts and it imputes"
   ]
  },
  {
   "cell_type": "markdown",
   "metadata": {},
   "source": [
    "First, we visualize by plotting original images and a scaling image."
   ]
  },
  {
   "cell_type": "code",
   "execution_count": 32,
   "metadata": {
    "collapsed": true
   },
   "outputs": [],
   "source": [
    "%matplotlib inline\n",
    "import torch\n",
    "import os\n",
    "import sys\n",
    "sys.path.append(os.path.dirname(os.path.dirname(os.path.dirname(os.getcwd()))))\n",
    "\n",
    "import exp.utils_visualise as utils_visualise\n",
    "import matplotlib.pyplot as plt\n",
    "import numpy as np\n",
    "from exp.loaddata_utils import ImageNetLoadClass\n",
    "import torchvision.models as models\n",
    "import torch.nn.functional as F\n",
    "from torch.autograd import Variable\n",
    "from matplotlib import rc\n",
    "import matplotlib.pylab as plt\n",
    "from arch.DeepLiftNet import DeepLiftNet\n",
    "from exp.vbd_imagenet.nets.Inpainting.Baseline import MeanInpainter\n",
    "\n",
    "def get_file_names(directory):\n",
    "    directory = os.path.join('../result', directory)\n",
    "    result = []\n",
    "    for filename in os.listdir(directory):\n",
    "        if filename.endswith(\"records.th\"): \n",
    "            result.append(filename)\n",
    "    return result\n",
    "\n",
    "def sort_asd_2d(nd_arr):\n",
    "    ''' (np arr) -> tuple\n",
    "    Sort 2d array and return an order by ascending order\n",
    "    :param nd_arr\n",
    "    :return: a tuple of array of index. first element is index 1, 2nd element is index 2.\n",
    "    '''\n",
    "    return np.unravel_index(np.argsort(nd_arr.ravel()), nd_arr.shape)\n",
    "\n",
    "def mask_gen_to_flip_top_pixels(importance_2d, num_pixels):\n",
    "    rank = sort_asd_2d(-importance_2d)\n",
    "\n",
    "    H, W = importance_2d.shape\n",
    "    mask = torch.ones(1, 1, H, W)\n",
    "\n",
    "    for i in xrange(num_pixels[-1] + 1):\n",
    "        mask[0, 0, rank[0][i], rank[1][i]] = 0.\n",
    "        if i in num_pixels:\n",
    "            yield mask\n",
    "\n",
    "def mask_gen_to_keep_top_pixels(importance_2d, num_pixels):\n",
    "    rank = sort_asd_2d(importance_2d)\n",
    "\n",
    "    H, W = importance_2d.shape\n",
    "    mask = torch.ones(1, 1, H, W)\n",
    "\n",
    "    for i in xrange(num_pixels[-1] + 1):\n",
    "        mask[0, 0, rank[0][i], rank[1][i]] = 0.\n",
    "        if (i + 1) in num_pixels:\n",
    "            yield mask\n",
    "\n",
    "def get_log_odds_ratio(image, from_class=8, to_class=3):\n",
    "    if image.ndimension() == 3:\n",
    "        image = image.unsqueeze(0)\n",
    "    pre_softmax_score = interpret_net.forward(Variable(image, volatile=True))\n",
    "    \n",
    "    logodds_diff = pre_softmax_score[:, from_class] - pre_softmax_score[:, to_class]\n",
    "    return logodds_diff.data[0]"
   ]
  },
  {
   "cell_type": "code",
   "execution_count": 43,
   "metadata": {
    "collapsed": true
   },
   "outputs": [],
   "source": [
    "# Load mnist classifier\n",
    "label_arrs = [\n",
    "    ('Perturbation', '../result/1013-p_b/8_3_0_records.th'),\n",
    "    ('Variational\\nDropout\\n($\\lambda=0.1$)', '../result/1013-vbd_l1_opposite-0.1/8_0_records.th'),\n",
    "    ('Variational\\nDropout\\n($\\lambda=1E-3$)', '../result/1013-vbd_l1_opposite-1E-3/8_0_records.th'),\n",
    "    ('Variational\\nDropout\\n($\\lambda=1E-6$)', '../result/1013-vbd_l1_opposite-1E-6/8_0_records.th'),\n",
    "]"
   ]
  },
  {
   "cell_type": "code",
   "execution_count": 16,
   "metadata": {},
   "outputs": [
    {
     "name": "stdout",
     "output_type": "stream",
     "text": [
      "Loaded classifier successful!\n"
     ]
    }
   ],
   "source": [
    "# Load classifier.\n",
    "impant_model = MeanInpainter()\n",
    "\n",
    "interpret_net = DeepLiftNet()\n",
    "interpret_net.load_state_dict(torch.load('../model/mnist_cnn_allconv_pytorch'))\n",
    "interpret_net.eval()\n",
    "interpret_net.float()\n",
    "interpret_net.eval()\n",
    "print 'Loaded classifier successful!'"
   ]
  },
  {
   "cell_type": "code",
   "execution_count": null,
   "metadata": {
    "collapsed": true
   },
   "outputs": [],
   "source": [
    "# Start drawing. Open each path and plot something!\n",
    "num_pixels = [50, 100, 150]\n",
    "\n",
    "N = len(label_arrs)\n",
    "print 'N:', N\n",
    "\n",
    "fig, axes = plt.subplots(N, 2 + len(num_pixels) + 2, figsize=(len(num_pixels) * 4, N * 4))\n",
    "\n",
    "for img_idx, (name, path) in enumerate(label_arrs):\n",
    "    orig_log_odds, all_log_odds, unnormalized_img, imp_vector, random_odds = torch.load(path)\n",
    "\n",
    "    overlayed_img, clim = utils_visualise.get_overlayed_image(unnormalized_img[0, ...], imp_vector)\n",
    "\n",
    "    # Plot original image and the colored image\n",
    "#     utils_visualise.save_figs([overlayed_img], filename=file_name, visualize=False, nrow=1,\n",
    "#                               clim=clim, ax=axes])\n",
    "    im1 = utils_visualise.plot_pytorch_img(unnormalized_img[0, ...].expand(3, 28, 28), axes[img_idx, 0])\n",
    "    im2 = utils_visualise.plot_pytorch_img(overlayed_img, axes[img_idx, 1])\n",
    "\n",
    "    orig_log_odds = get_log_odds_ratio(unnormalized_img, from_class=8, to_class=3)\n",
    "\n",
    "    axes[img_idx, 0].set_xlabel('%.1f' % (orig_log_odds), fontsize=20)\n",
    "    axes[img_idx, 0].set_ylabel(name, fontsize=20)\n",
    "    if img_idx == 0:\n",
    "        axes[img_idx, 1].set_title('Importance', fontsize=20)\n",
    "\n",
    "    # Plot the mask image\n",
    "#     num_pixels = [int(perc * 28 * 28) for perc in percs]\n",
    "    mask_generator = iter(mask_gen_to_flip_top_pixels(imp_vector, num_pixels))\n",
    "\n",
    "    for idx, num_pixel in enumerate(num_pixels):\n",
    "        mask = mask_generator.next()\n",
    "\n",
    "        regenerated = impant_model.impute_missing_imgs(unnormalized_img, mask)\n",
    "\n",
    "        log_odds = get_log_odds_ratio(regenerated, from_class=8, to_class=3)\n",
    "\n",
    "#         utils_visualise.plot_pytorch_img(mask[0, ...].expand(3, 224, 224), axes[img_idx, 2 + 2 * idx])\n",
    "        utils_visualise.plot_pytorch_img(regenerated[0, ...].expand(3, 28, 28), axes[img_idx, 2 + idx])\n",
    "\n",
    "        axes[img_idx, 2 + idx].set_xlabel('%.1f' % (log_odds), fontsize=20)\n",
    "        if img_idx == 0:\n",
    "#             axes[img_idx, 1 + 2 * idx].set_title('%d mask' %(num_pixel), fontsize=20)\n",
    "            axes[img_idx, 2 + idx].set_title('%d imputed' % (num_pixel), fontsize=20)\n",
    "    \n",
    "    if 'p_b' not in name:\n",
    "        axes[img_idx, -2].\n",
    "\n",
    "# Closes all the axis    \n",
    "for ax1 in axes:\n",
    "    for ax in ax1:\n",
    "        ax.set_xticks([], [])\n",
    "        ax.set_yticks([], [])\n",
    "print 'Done!'\n",
    "# return fig"
   ]
  },
  {
   "cell_type": "code",
   "execution_count": 46,
   "metadata": {},
   "outputs": [
    {
     "name": "stdout",
     "output_type": "stream",
     "text": [
      "N: 4\n",
      "Done!\n"
     ]
    },
    {
     "data": {
      "image/png": "[encoded data removed]",
      "text/plain": [
       "<matplotlib.figure.Figure at 0x7f59bf473110>"
      ]
     },
     "metadata": {},
     "output_type": "display_data"
    }
   ],
   "source": [
    "# Start drawing. Open each path and plot something!\n",
    "num_pixels = [50, 100, 150]\n",
    "\n",
    "N = len(label_arrs)\n",
    "print 'N:', N\n",
    "\n",
    "fig, axes = plt.subplots(N, 2 + len(num_pixels) + 2, figsize=(len(num_pixels) * 4, N * 4))\n",
    "\n",
    "for img_idx, (name, path) in enumerate(label_arrs):\n",
    "    orig_log_odds, all_log_odds, unnormalized_img, imp_vector, random_odds = torch.load(path)\n",
    "\n",
    "    overlayed_img, clim = utils_visualise.get_overlayed_image(unnormalized_img[0, ...], imp_vector)\n",
    "\n",
    "    # Plot original image and the colored image\n",
    "#     utils_visualise.save_figs([overlayed_img], filename=file_name, visualize=False, nrow=1,\n",
    "#                               clim=clim, ax=axes])\n",
    "    im1 = utils_visualise.plot_pytorch_img(unnormalized_img[0, ...].expand(3, 28, 28), axes[img_idx, 0])\n",
    "    im2 = utils_visualise.plot_pytorch_img(overlayed_img, axes[img_idx, 1])\n",
    "\n",
    "    orig_log_odds = get_log_odds_ratio(unnormalized_img, from_class=8, to_class=3)\n",
    "\n",
    "    axes[img_idx, 0].set_xlabel('%.1f' % (orig_log_odds), fontsize=20)\n",
    "    axes[img_idx, 0].set_ylabel(name, fontsize=20)\n",
    "    if img_idx == 0:\n",
    "        axes[img_idx, 1].set_title('Importance', fontsize=20)\n",
    "\n",
    "    # Plot the mask image\n",
    "#     num_pixels = [int(perc * 28 * 28) for perc in percs]\n",
    "    mask_generator = iter(mask_gen_to_flip_top_pixels(imp_vector, num_pixels))\n",
    "\n",
    "    for idx, num_pixel in enumerate(num_pixels):\n",
    "        mask = mask_generator.next()\n",
    "\n",
    "        regenerated = impant_model.impute_missing_imgs(unnormalized_img, mask)\n",
    "\n",
    "        log_odds = get_log_odds_ratio(regenerated, from_class=8, to_class=3)\n",
    "\n",
    "#         utils_visualise.plot_pytorch_img(mask[0, ...].expand(3, 224, 224), axes[img_idx, 2 + 2 * idx])\n",
    "        utils_visualise.plot_pytorch_img(regenerated[0, ...].expand(3, 28, 28), axes[img_idx, 2 + idx])\n",
    "\n",
    "        axes[img_idx, 2 + idx].set_xlabel('%.1f' % (log_odds), fontsize=20)\n",
    "        if img_idx == 0:\n",
    "#             axes[img_idx, 1 + 2 * idx].set_title('%d mask' %(num_pixel), fontsize=20)\n",
    "            axes[img_idx, 2 + idx].set_title('%d imputed' % (num_pixel), fontsize=20)\n",
    "    \n",
    "    if 'p_b' not in name:\n",
    "        axes[img_idx, -2].\n",
    "\n",
    "# Closes all the axis    \n",
    "for ax1 in axes:\n",
    "    for ax in ax1:\n",
    "        ax.set_xticks([], [])\n",
    "        ax.set_yticks([], [])\n",
    "print 'Done!'\n",
    "# return fig"
   ]
  },
  {
   "cell_type": "code",
   "execution_count": 2,
   "metadata": {
    "collapsed": true
   },
   "outputs": [],
   "source": [
    "# Load imagenet helper\n",
    "loadhelper = ImageNetLoadClass('../../imagenet/', dataset='valid/')\n",
    "\n",
    "def plot_imgs_given_path(label_arrs, percs=[0.005, 0.02, 0.1], impant_model=None, interpret_net=None,\n",
    "                         mask_mode=mask_gen_to_flip_top_pixels):\n",
    "    # Load impant model. Default is AE.\n",
    "    if impant_model is None:\n",
    "        impant_model = ImpantingModel()\n",
    "        states = torch.load('../checkpts/0903-all-masks_lr_0.0005_epochs_99', \n",
    "                            map_location=lambda storage, loc: storage)\n",
    "        impant_model.load_state_dict(states['state_dict'])\n",
    "        impant_model.eval()\n",
    "        print 'Loaded impant model successful!'\n",
    "    \n",
    "    # Load classifier. Default is AlexNet\n",
    "    if interpret_net is None:\n",
    "        interpret_net = models.alexnet(pretrained=True)\n",
    "        interpret_net.eval()\n",
    "        print 'Loaded classifier successful!'\n",
    "    \n",
    "    # Start drawing. Open each path and plot something!\n",
    "    N = len(label_arrs)\n",
    "    print 'N:', N\n",
    "    \n",
    "    fig, axes = plt.subplots(N, 8, figsize=(30, N * 4))\n",
    "    \n",
    "    for img_idx, (name, path) in enumerate(label_arrs):\n",
    "        orig_log_odds, all_log_odds, unnormalized_img, imp_vector = torch.load(path)\n",
    "        orig_img = ImageNetLoadClass.normalize_imagenet_img(unnormalized_img.unsqueeze(0))\n",
    "\n",
    "        overlayed_img, clim = utils_visualise.get_overlayed_image(unnormalized_img, imp_vector)\n",
    "\n",
    "        # Plot original image and the colored image\n",
    "        im1 = utils_visualise.plot_pytorch_img(unnormalized_img, axes[img_idx, 0])\n",
    "        im2 = utils_visualise.plot_pytorch_img(overlayed_img, axes[img_idx, 1])\n",
    "\n",
    "        prob, pred_class_name, target_class = get_prob_and_pred_class_name(orig_img)\n",
    "        log_odds = np.log(prob) - np.log(1. - prob)\n",
    "\n",
    "        axes[img_idx, 0].set_title(pred_class_name, fontsize=20)\n",
    "        axes[img_idx, 0].set_xlabel('%.1f%% (%.1f)' % (prob * 100, log_odds), fontsize=20)\n",
    "        axes[img_idx, 0].set_ylabel(name, fontsize=20)\n",
    "        if img_idx == 0:\n",
    "            axes[img_idx, 1].set_title('Importance', fontsize=20)\n",
    "\n",
    "        # Plot the mask image\n",
    "        num_pixels = [int(perc * 224 * 224) for perc in percs]\n",
    "        mask_generator = iter(mask_mode(imp_vector, num_pixels))\n",
    "\n",
    "        for idx, key in enumerate(percs):\n",
    "            mask = mask_generator.next()\n",
    "\n",
    "            regenerated = impant_model.impute_missing_imgs(orig_img, mask)\n",
    "            regenerated = ImageNetLoadClass.unnormalize_imagenet_img(regenerated)\n",
    "\n",
    "            prob, _, _ = get_prob_and_pred_class_name(regenerated, target_class)\n",
    "            log_odds = np.log(prob) - np.log(1. - prob)\n",
    "\n",
    "            utils_visualise.plot_pytorch_img(mask[0, ...].expand(3, 224, 224), axes[img_idx, 2 + 2 * idx])\n",
    "            utils_visualise.plot_pytorch_img(regenerated[0, ...], axes[img_idx, 3 + 2 * idx])\n",
    "            \n",
    "            axes[img_idx, 3 + 2 * idx].set_xlabel('%.1f%% (%.1f)' % (prob * 100, log_odds), fontsize=20)\n",
    "            if img_idx == 0:\n",
    "                axes[img_idx, 2 + 2 * idx].set_title('%.1f%% mask' %(key * 100), fontsize=20)\n",
    "                axes[img_idx, 3 + 2 * idx].set_title('%.1f%% imputed' % (key * 100), fontsize=20)\n",
    "    \n",
    "    # Closes all the axis    \n",
    "    for ax1 in axes:\n",
    "        for ax in ax1:\n",
    "            ax.set_xticks([], [])\n",
    "            ax.set_yticks([], [])\n",
    "    print 'Done!'\n",
    "    return fig\n"
   ]
  },
  {
   "cell_type": "markdown",
   "metadata": {},
   "source": [
    "## Cache the impant and classifier "
   ]
  },
  {
   "cell_type": "code",
   "execution_count": 6,
   "metadata": {
    "collapsed": true
   },
   "outputs": [],
   "source": [
    "from exp.vbd_imagenet.nets.Inpainting.AE_Inpainting import ImpantingModel\n",
    "from exp.vbd_imagenet.nets.Inpainting.AE_Inpainting import VAEImpantModel, VAEWithVarImpantModelMean\n",
    "from exp.vbd_imagenet.nets.Inpainting.GAN_Inpainting import AE_GAN\n",
    "from exp.vbd_imagenet.nets.GAN.GAN_G import GAN_G\n",
    "from exp.vbd_imagenet.nets.BVLC.BVLC_NET import BVLC_NET, ImpaintBVLC\n",
    "from exp.vbd_imagenet.nets.Inpainting.Baseline import LocalMeanInpainter, MeanInpainter\n",
    "\n",
    "def loadMeanInpainter():\n",
    "    return MeanInpainter()\n",
    "\n",
    "def loadLocalMeanInpainter():\n",
    "    generative_model = LocalMeanInpainter()\n",
    "    return generative_model\n",
    "\n",
    "def loadAE():\n",
    "    generative_model = ImpantingModel()\n",
    "    states = torch.load('../checkpts/0903-all-masks_lr_0.0005_epochs_99', map_location=lambda storage, loc: storage)\n",
    "    state_dict = generative_model.state_dict()\n",
    "    state_dict.update(states['state_dict'])\n",
    "    generative_model.load_state_dict(state_dict)\n",
    "    generative_model.eval()\n",
    "\n",
    "    print 'Load generative model'\n",
    "    return generative_model\n",
    "\n",
    "def loadVAE():\n",
    "    generative_model = VAEImpantModel()\n",
    "    states = torch.load('../checkpts/0905-vae_lr_0.0005_epochs_99', map_location=lambda storage, loc: storage)\n",
    "    state_dict = generative_model.state_dict()\n",
    "    state_dict.update(states['state_dict'])\n",
    "    generative_model.load_state_dict(state_dict)\n",
    "    generative_model.eval()\n",
    "\n",
    "    print 'Load generative model'\n",
    "    return generative_model\n",
    "\n",
    "def loadVAEWithCovMean():\n",
    "    generative_model = VAEWithVarImpantModelMean()\n",
    "    states = torch.load('../checkpts2/0922-VAEWithVar_lr_0.0005_epochs_53', map_location=lambda storage, loc: storage)\n",
    "    state_dict = generative_model.state_dict()\n",
    "    state_dict.update(states['state_dict'])\n",
    "    generative_model.load_state_dict(state_dict)\n",
    "    generative_model.eval()\n",
    "\n",
    "    print 'Load generative model'\n",
    "    return generative_model\n",
    "\n",
    "def loadGANAE():\n",
    "    generative_model = AE_GAN(bvlc_dir='../nets/BVLC/', gan_g_dir='../nets/GAN/', clamp=False)\n",
    "    states = torch.load('../checkpts2/0917-AEGAN-2_lr_0.0002_epochs_153', map_location=lambda storage, loc: storage)\n",
    "#     state_dict = generative_model.state_dict()\n",
    "#     state_dict.update(states['state_dict'])\n",
    "    generative_model.load_state_dict(states['state_dict'])\n",
    "    generative_model.eval()\n",
    "\n",
    "    print 'Load generative model'\n",
    "    return generative_model\n",
    "\n",
    "def loadGAN_optimize():\n",
    "    states = torch.load('../checkpts2/0917-AEGAN-2_lr_0.0002_epochs_153', map_location=lambda storage, loc: storage)\n",
    "    bvlc_net = ImpaintBVLC()\n",
    "    bvlc_net.load_state_dict(states['state_dict'])\n",
    "\n",
    "    impant_model = GAN_G(lr=0.3, steps=30, step_print=30, lookahead=20,\n",
    "                         bound='../nets/GAN/fc6.txt', encoder=bvlc_net, clamp=False,\n",
    "                         use_existing_code=False)\n",
    "    state = impant_model.state_dict()\n",
    "    state.update(torch.load('../nets/GAN/GAN_G.pth', map_location=lambda storage, loc: storage))\n",
    "    impant_model.load_state_dict(state)\n",
    "    impant_model.eval()\n",
    "    return impant_model"
   ]
  },
  {
   "cell_type": "markdown",
   "metadata": {},
   "source": [
    "## Load Alexnet as my classifier"
   ]
  },
  {
   "cell_type": "code",
   "execution_count": 4,
   "metadata": {},
   "outputs": [
    {
     "name": "stdout",
     "output_type": "stream",
     "text": [
      "Loaded successful!\n"
     ]
    }
   ],
   "source": [
    "interpret_net = models.alexnet(pretrained=True)\n",
    "interpret_net.eval()\n",
    "\n",
    "print 'Loaded successful!'"
   ]
  },
  {
   "cell_type": "markdown",
   "metadata": {},
   "source": [
    "## Visualize Mean\n",
    "Compare between p_b and vbd."
   ]
  },
  {
   "cell_type": "code",
   "execution_count": null,
   "metadata": {
    "collapsed": true
   },
   "outputs": [],
   "source": [
    "label_arrs = [\n",
    "    ('Perturbation', '../imgs/val_benchmark/0925_mean_p_b_val/ILSVRC2012_val_00000962_records.th'),\n",
    "    ('Variational\\nDropout', '../imgs/val_benchmark/0925_mean_vbd_0.1_p0.5_val/ILSVRC2012_val_00000962_records.th'),\n",
    "    ('Perturbation', '../imgs/val_benchmark/0925_mean_p_b_val/ILSVRC2012_val_00000963_records.th'),\n",
    "    ('Variational\\nDropout', '../imgs/val_benchmark/0925_mean_vbd_0.1_p0.5_val/ILSVRC2012_val_00000963_records.th'),\n",
    "    ('Perturbation', '../imgs/val_benchmark/0925_mean_p_b_val/ILSVRC2012_val_00000978_records.th'),\n",
    "    ('Variational\\nDropout', '../imgs/val_benchmark/0925_mean_vbd_0.1_p0.5_val/ILSVRC2012_val_00000978_records.th'),\n",
    "    ('Perturbation', '../imgs/val_benchmark/0925_mean_p_b_val/ILSVRC2012_val_00000994_records.th'),\n",
    "    ('Variational\\nDropout', '../imgs/val_benchmark/0925_mean_vbd_0.1_p0.5_val/ILSVRC2012_val_00000994_records.th'),\n",
    "]\n",
    "\n",
    "mean_model = loadMeanInpainter()\n",
    "\n",
    "fig = plot_imgs_given_path(label_arrs, impant_model=mean_model, interpret_net=interpret_net)\n",
    "fig.savefig('mean_prior0.5_val.eps', format='eps', dpi=500, bbox_inches='tight')"
   ]
  },
  {
   "cell_type": "markdown",
   "metadata": {},
   "source": [
    "## Visualize Local\n",
    "Compare between p_b and vbd."
   ]
  },
  {
   "cell_type": "code",
   "execution_count": null,
   "metadata": {
    "collapsed": true
   },
   "outputs": [],
   "source": [
    "label_arrs = [\n",
    "    ('Perturbation', '../imgs/val_benchmark/0925_local_p_b_val/ILSVRC2012_val_00000962_records.th'),\n",
    "    ('Variational\\nDropout', '../imgs/val_benchmark/0925_local_vbd_0.1_p0.5_val/ILSVRC2012_val_00000962_records.th'),\n",
    "    ('Perturbation', '../imgs/val_benchmark/0925_local_p_b_val/ILSVRC2012_val_00000963_records.th'),\n",
    "    ('Variational\\nDropout', '../imgs/val_benchmark/0925_local_vbd_0.1_p0.5_val/ILSVRC2012_val_00000963_records.th'),\n",
    "    ('Perturbation', '../imgs/val_benchmark/0925_local_p_b_val/ILSVRC2012_val_00000978_records.th'),\n",
    "    ('Variational\\nDropout', '../imgs/val_benchmark/0925_local_vbd_0.1_p0.5_val/ILSVRC2012_val_00000978_records.th'),\n",
    "    ('Perturbation', '../imgs/val_benchmark/0925_local_p_b_val/ILSVRC2012_val_00000994_records.th'),\n",
    "    ('Variational\\nDropout', '../imgs/val_benchmark/0925_local_vbd_0.1_p0.5_val/ILSVRC2012_val_00000994_records.th'),\n",
    "]\n",
    "\n",
    "local_model = loadLocalMeanInpainter()\n",
    "\n",
    "fig = plot_imgs_given_path(label_arrs, impant_model=local_model, interpret_net=interpret_net)\n",
    "fig.savefig('local_prior0.5_val.eps', format='eps', dpi=500, bbox_inches='tight')"
   ]
  },
  {
   "cell_type": "markdown",
   "metadata": {},
   "source": [
    "## Visualize AE\n",
    "Compare between p_b and vbd."
   ]
  },
  {
   "cell_type": "code",
   "execution_count": null,
   "metadata": {
    "collapsed": true,
    "scrolled": true
   },
   "outputs": [],
   "source": [
    "label_arrs = [\n",
    "    ('Perturbation', '../imgs/val_benchmark/0915_ae_p_b_val/ILSVRC2012_val_00000962_records.th'),\n",
    "    ('Variational\\nDropout', '../imgs/val_benchmark/0915_ae_vbd_0.1_prior_0.5_val/ILSVRC2012_val_00000962_records.th'),\n",
    "    ('Perturbation', '../imgs/val_benchmark/0915_ae_p_b_val/ILSVRC2012_val_00000963_records.th'),\n",
    "    ('Variational\\nDropout', '../imgs/val_benchmark/0915_ae_vbd_0.1_prior_0.5_val/ILSVRC2012_val_00000963_records.th'),\n",
    "    ('Perturbation', '../imgs/val_benchmark/0915_ae_p_b_val/ILSVRC2012_val_00000978_records.th'),\n",
    "    ('Variational\\nDropout', '../imgs/val_benchmark/0915_ae_vbd_0.1_prior_0.5_val/ILSVRC2012_val_00000978_records.th'),\n",
    "    ('Perturbation', '../imgs/val_benchmark/0915_ae_p_b_val/ILSVRC2012_val_00000994_records.th'),\n",
    "    ('Variational\\nDropout', '../imgs/val_benchmark/0915_ae_vbd_0.1_prior_0.5_val/ILSVRC2012_val_00000994_records.th'),\n",
    "]\n",
    "\n",
    "ae_model = loadAE()\n",
    "\n",
    "fig = plot_imgs_given_path(label_arrs, impant_model=ae_model, interpret_net=interpret_net)\n",
    "fig.savefig('ae_prior0.5_val.eps', format='eps', dpi=500, bbox_inches='tight')"
   ]
  },
  {
   "cell_type": "markdown",
   "metadata": {},
   "source": [
    "## Visualize VAE"
   ]
  },
  {
   "cell_type": "markdown",
   "metadata": {},
   "source": [
    "# Compare between generative model"
   ]
  },
  {
   "cell_type": "code",
   "execution_count": 16,
   "metadata": {
    "collapsed": true
   },
   "outputs": [],
   "source": [
    "def load_img_and_overlay(path):\n",
    "    orig_log_odds, all_log_odds, unnormalized_img, imp_vector = torch.load(path)\n",
    "    orig_img = ImageNetLoadClass.normalize_imagenet_img(unnormalized_img.unsqueeze(0))\n",
    "\n",
    "    overlayed_img, clim = utils_visualise.get_overlayed_image(unnormalized_img, imp_vector)\n",
    "    return unnormalized_img, overlayed_img, orig_img\n",
    "\n",
    "def compare_generative_model(filenames, methods):\n",
    "#     folders = [['val_benchmark/0925_mean_p_b_val', 'val_benchmark/0925_local_p_b_val', \n",
    "#                 'val_benchmark/0915_ae_p_b_val', 'val_benchmark/0916_vae_p_b_s1_val', \n",
    "#                 'val_benchmark/0925_vae_cov_mean_p_b_val',\n",
    "#                 'val_benchmark/0919_aegan_p_b_val'],\n",
    "#                ['val_benchmark/0925_mean_vbd_0.1_p0.5_val', 'val_benchmark/0925_local_vbd_0.1_p0.5_val', \n",
    "#                 'val_benchmark/0915_ae_vbd_0.1_prior_0.5_val', 'val_benchmark/0918_vae_vbd_0.1_prior_0.5_val', \n",
    "#                 'val_benchmark/0925_vae_cov_mean_vbd_0.1_p0.5_val',\n",
    "#                 'val_benchmark/0919_aegan_vbd_0.1_p0.5_val']]\n",
    "    N = len(filenames)\n",
    "    print 'N:', N\n",
    "    \n",
    "    fig, axes = plt.subplots(2 * N, 1 + len(methods), figsize=(6 * len(methods), 12 * N))\n",
    "    \n",
    "    folders = methods.values()\n",
    "    names = methods.keys()\n",
    "    for i in xrange(1, 1 + len(methods)):\n",
    "        axes[0, i].set_title(names[i - 1], fontsize=24)\n",
    "        \n",
    "#     axes[0, 1].set_title('Mean', fontsize=24)\n",
    "#     axes[0, 2].set_title('Local (15)', fontsize=24)\n",
    "#     axes[0, 3].set_title('Autoencoder', fontsize=24)\n",
    "#     axes[0, 4].set_title('Varitional\\nAutoencoder', fontsize=24)\n",
    "#     axes[0, 5].set_title('Varitional\\nAutoencoder\\nCovariance', fontsize=24)\n",
    "#     axes[0, 6].set_title('Denoise\\nGAN', fontsize=24)\n",
    "    \n",
    "    for idx, filename in enumerate(filenames):\n",
    "        path = os.path.join('../imgs', folders[0][0], '%s_records.th' % filename)\n",
    "        unnormalized_img, overlayed_img, orig_img = load_img_and_overlay(path)\n",
    "        prob, pred_class_name, target_class = get_prob_and_pred_class_name(orig_img)\n",
    "        axes[2 * idx, 0].set_title(pred_class_name, fontsize=24)\n",
    "        \n",
    "        utils_visualise.plot_pytorch_img(unnormalized_img, axes[2 * idx + 0, 0])\n",
    "        utils_visualise.plot_pytorch_img(unnormalized_img, axes[2 * idx + 1, 0])\n",
    "        axes[2 * idx + 0, 0].set_ylabel('Perturbation', fontsize=24)\n",
    "        axes[2 * idx + 1, 0].set_ylabel('Variational\\nDropout', fontsize=24)\n",
    "\n",
    "        for i in xrange(2):\n",
    "            for j in xrange(1, len(folders) + 1):\n",
    "                path = os.path.join('../imgs', folders[j - 1][i], '%s_records.th' % filename)\n",
    "                _, overlayed_img, _ = load_img_and_overlay(path)\n",
    "\n",
    "                utils_visualise.plot_pytorch_img(overlayed_img, axes[2 * idx + i, j])\n",
    "\n",
    "    for ax1 in axes:\n",
    "        for ax in ax1:\n",
    "            ax.set_xticks([], [])\n",
    "            ax.set_yticks([], [])\n",
    "    return fig"
   ]
  },
  {
   "cell_type": "code",
   "execution_count": null,
   "metadata": {
    "collapsed": true,
    "scrolled": true
   },
   "outputs": [],
   "source": [
    "from collections import OrderedDict\n",
    "methods = OrderedDict([\n",
    "    ('Mean', ('val_benchmark/0925_mean_p_b_val', 'val_benchmark/0925_mean_vbd_0.1_p0.5_val')),\n",
    "    ('Local (15)', ('val_benchmark/0925_local_p_b_val', 'val_benchmark/0925_local_vbd_0.1_p0.5_val')),\n",
    "    ('Autoencoder', ('val_benchmark/0915_ae_p_b_val', 'val_benchmark/0915_ae_vbd_0.1_prior_0.5_val')),\n",
    "    ('Varitional\\nAutoencoder', ('val_benchmark/0916_vae_p_b_s1_val', 'val_benchmark/0918_vae_vbd_0.1_prior_0.5_val')),\n",
    "    ('Varitional\\nAutoencoder\\nCovariance', ('val_benchmark/0925_vae_cov_mean_p_b_val', \n",
    "                                             'val_benchmark/0925_vae_cov_mean_vbd_0.1_p0.5_val')),\n",
    "    ('Denoise\\nGAN', ('val_benchmark/0919_aegan_p_b_val', 'val_benchmark/0919_aegan_vbd_0.1_p0.5_val')),\n",
    "])\n",
    "files = ['ILSVRC2012_val_00000064', 'ILSVRC2012_val_00000225', \n",
    "         'ILSVRC2012_val_00000236', 'ILSVRC2012_val_00000307']\n",
    "\n",
    "fig = compare_generative_model(files, methods)\n",
    "fig.savefig('compare_gen_model.eps', format='eps', dpi=500, bbox_inches='tight')"
   ]
  },
  {
   "cell_type": "code",
   "execution_count": null,
   "metadata": {
    "collapsed": true
   },
   "outputs": [],
   "source": []
  }
 ],
 "metadata": {
  "kernelspec": {
   "display_name": "py27-anaconda",
   "language": "python",
   "name": "py27-anaconda"
  },
  "language_info": {
   "codemirror_mode": {
    "name": "ipython",
    "version": 2
   },
   "file_extension": ".py",
   "mimetype": "text/x-python",
   "name": "python",
   "nbconvert_exporter": "python",
   "pygments_lexer": "ipython2",
   "version": "2.7.14"
  }
 },
 "nbformat": 4,
 "nbformat_minor": 2
}
